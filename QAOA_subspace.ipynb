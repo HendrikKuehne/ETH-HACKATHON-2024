{
 "cells": [
  {
   "cell_type": "code",
   "execution_count": 66,
   "metadata": {},
   "outputs": [],
   "source": [
    "import numpy as np\n",
    "\n",
    "from qibo.symbols import X,Y,Z\n",
    "from qibo.hamiltonians import SymbolicHamiltonian\n",
    "from qibo import set_backend\n",
    "from qibo import models\n",
    "\n",
    "from itertools import product\n",
    "import random\n",
    "\n",
    "random.seed(13)"
   ]
  },
  {
   "cell_type": "markdown",
   "metadata": {},
   "source": [
    "# Generating the dataset"
   ]
  },
  {
   "cell_type": "code",
   "execution_count": 67,
   "metadata": {},
   "outputs": [
    {
     "name": "stdout",
     "output_type": "stream",
     "text": [
      "--------------------\n",
      "Instance Details:\n",
      "--------------------\n",
      "Duration                 : [3, 3, 6, 6, 7, 7]\n",
      "Values                   : [7, 15, 8, 15, 7, 8]\n",
      "Total duration           : 32\n",
      "Maximum allowed duration : 22\n"
     ]
    }
   ],
   "source": [
    "# Define the number of items\n",
    "n_items = 6\n",
    "\n",
    "# Define ranges\n",
    "duration_range = [1, 7]\n",
    "values_range = [5, 15]\n",
    "max_duration_percentage = 0.7\n",
    "\n",
    "# Fill the weights and values \n",
    "duration = [random.randint(duration_range[0], duration_range[1]) for _ in range(n_items)]\n",
    "values  = [random.randint(values_range[0], values_range[1]) for _ in range(n_items)]\n",
    "\n",
    "# Compute the maximum allowed weight\n",
    "max_duration = int(max_duration_percentage * sum(duration))\n",
    "\n",
    "\n",
    "# Print the instance\n",
    "print(\"-\" * 20)\n",
    "print(\"Instance Details:\")\n",
    "print(\"-\" * 20)\n",
    "print(f\"Duration                 : {duration}\")\n",
    "print(f\"Values                   : {values}\")\n",
    "print(f\"Total duration           : {sum(duration)}\")\n",
    "print(f\"Maximum allowed duration : {max_duration}\")"
   ]
  },
  {
   "cell_type": "code",
   "execution_count": 68,
   "metadata": {},
   "outputs": [],
   "source": [
    "def build_cost_hamiltonian(values: list, duration: list, max_duration: int) -> SymbolicHamiltonian:\n",
    "    \"\"\"\n",
    "    This function should be filled to build the problem cost hamiltonian.\n",
    "\n",
    "    Args:\n",
    "        values (list[int]): the list of values.\n",
    "        duration (list[int]): the list of durations. \n",
    "        max_duration (int): the maximum value of the allowed duration.\n",
    "    \"\"\"\n",
    "    nQubits = len(values)\n",
    "    cost_hamiltonian = (-1) * sum([values[i] * (1- Z(i))/2 for i in range(nQubits)])\n",
    "\n",
    "    return SymbolicHamiltonian(cost_hamiltonian)"
   ]
  },
  {
   "cell_type": "code",
   "execution_count": 69,
   "metadata": {},
   "outputs": [],
   "source": [
    "# number of qubits\n",
    "nQubits = len(values)"
   ]
  },
  {
   "cell_type": "code",
   "execution_count": 70,
   "metadata": {},
   "outputs": [],
   "source": [
    "def value_from_eigvec(eigvec:str) -> float: return sum([values[int(i)] for i in eigvec if eigvec[int(i)] == '1'])\n",
    "def duration_from_eigvec(eigvec:str) -> float: return sum([duration[int(i)] for i in eigvec if eigvec[int(i)] == '1'])"
   ]
  },
  {
   "cell_type": "markdown",
   "metadata": {},
   "source": [
    "### Diagonalize the cost hamiltonian and examen its eigenvalues and eigenvectors. \n",
    "- Show that the ground state eigenvector does actually correspond to the ground state energy of the problem. (Note: the ground state could be degenerate)"
   ]
  },
  {
   "cell_type": "code",
   "execution_count": 71,
   "metadata": {},
   "outputs": [
    {
     "name": "stderr",
     "output_type": "stream",
     "text": [
      "[Qibo 0.2.2|INFO|2024-05-04 16:35:40]: Using numpy backend on /CPU:0\n",
      "[Qibo 0.2.2|WARNING|2024-05-04 16:35:40]: Calculating the dense form of a symbolic Hamiltonian. This operation is memory inefficient.\n"
     ]
    },
    {
     "name": "stdout",
     "output_type": "stream",
     "text": [
      "\n",
      "energy = -60.000 | value = 90 | duration = 18\n",
      "energy = -53.000 | value = 75 | duration = 15\n",
      "energy = -53.000 | value = 82 | duration = 18\n",
      "energy = -52.000 | value = 82 | duration = 18\n",
      "energy = -52.000 | value = 82 | duration = 18\n",
      "energy = -46.000 | value = 60 | duration = 12\n",
      "energy = -45.000 | value = 60 | duration = 12\n",
      "energy = -45.000 | value = 60 | duration = 12\n",
      "energy = -45.000 | value =  7 | duration =  3\n",
      "energy = -45.000 | value = 74 | duration = 18\n",
      "energy = -45.000 | value = 82 | duration = 18\n",
      "energy = -45.000 | value = 74 | duration = 18\n",
      "energy = -44.000 | value = 74 | duration = 18\n",
      "energy = -38.000 | value =  0 | duration =  0\n",
      "energy = -38.000 | value = 45 | duration =  9\n",
      "energy = -38.000 | value = 60 | duration = 12\n",
      "energy = -38.000 | value = 45 | duration =  9\n",
      "energy = -38.000 | value = 14 | duration =  6\n",
      "energy = -38.000 | value = 74 | duration = 18\n",
      "energy = -37.000 | value = 45 | duration =  9\n",
      "energy = -37.000 | value = 14 | duration =  6\n",
      "energy = -37.000 | value = 14 | duration =  6\n",
      "energy = -37.000 | value = 74 | duration = 18\n",
      "energy = -37.000 | value = 66 | duration = 18\n",
      "energy = -37.000 | value = 74 | duration = 18\n",
      "energy = -31.000 | value =  0 | duration =  0\n",
      "energy = -31.000 | value = 45 | duration =  9\n",
      "energy = -30.000 | value =  0 | duration =  0\n",
      "energy = -30.000 | value =  0 | duration =  0\n",
      "energy = -30.000 | value = 45 | duration =  9\n",
      "energy = -30.000 | value = 30 | duration =  6\n",
      "energy = -30.000 | value = 45 | duration =  9\n",
      "energy = -30.000 | value = 21 | duration =  9\n",
      "energy = -30.000 | value = 14 | duration =  6\n",
      "energy = -30.000 | value = 21 | duration =  9\n",
      "energy = -30.000 | value = 66 | duration = 18\n",
      "energy = -30.000 | value = 66 | duration = 18\n",
      "energy = -29.000 | value = 21 | duration =  9\n",
      "energy = -29.000 | value = 66 | duration = 18\n",
      "energy = -23.000 | value =  0 | duration =  0\n",
      "energy = -23.000 | value =  0 | duration =  0\n",
      "energy = -23.000 | value =  0 | duration =  0\n",
      "energy = -23.000 | value = 30 | duration =  6\n",
      "energy = -23.000 | value = 30 | duration =  6\n",
      "energy = -23.000 | value = 21 | duration =  9\n",
      "energy = -22.000 | value =  0 | duration =  0\n",
      "energy = -22.000 | value = 30 | duration =  6\n",
      "energy = -22.000 | value = 21 | duration =  9\n",
      "energy = -22.000 | value = 28 | duration = 12\n",
      "energy = -22.000 | value = 21 | duration =  9\n",
      "energy = -22.000 | value = 58 | duration = 18\n",
      "energy = -16.000 | value =  0 | duration =  0\n",
      "energy = -15.000 | value =  0 | duration =  0\n",
      "energy = -15.000 | value =  0 | duration =  0\n",
      "energy = -15.000 | value =  0 | duration =  0\n",
      "energy = -15.000 | value = 15 | duration =  3\n",
      "energy = -15.000 | value = 28 | duration = 12\n",
      "energy = -15.000 | value = 28 | duration = 12\n",
      "energy = -14.000 | value = 28 | duration = 12\n",
      "energy =  -8.000 | value =  0 | duration =  0\n",
      "energy =  -8.000 | value =  0 | duration =  0\n",
      "energy =  -7.000 | value =  0 | duration =  0\n",
      "energy =  -7.000 | value = 35 | duration = 15\n",
      "energy =   0.000 | value =  0 | duration =  0\n"
     ]
    }
   ],
   "source": [
    "# set the backend used for the calculation \n",
    "set_backend(\"numpy\", platform=None)\n",
    "\n",
    "\n",
    "# create the cost Hamiltonian for the given graph\n",
    "cost_hamiltonian = build_cost_hamiltonian(values=values, duration=duration, max_duration=max_duration)\n",
    "\n",
    "ham_matrix = cost_hamiltonian.matrix\n",
    "\n",
    "eig_val, eig_vec = np.linalg.eig(ham_matrix)\n",
    "eig_vec = [\"{0:0{bits}b}\".format(i.argmax(), bits=nQubits) for i in eig_vec]\n",
    "\n",
    "vec = zip(eig_val, eig_vec)\n",
    "diagonalized_solution = sorted(vec, key=lambda x: x[0])\n",
    "\n",
    "print()\n",
    "# print(diagonalized_solution)\n",
    "\n",
    "for energy, eigvec in diagonalized_solution:\n",
    "    print(\"energy = {:7.3f} | value = {:2} | duration = {:2}\".format(np.real(energy), value_from_eigvec(eigvec), duration_from_eigvec(eigvec)))"
   ]
  },
  {
   "cell_type": "markdown",
   "metadata": {},
   "source": [
    "### Solve this hamiltonian using the QAOA algorithm."
   ]
  },
  {
   "cell_type": "markdown",
   "metadata": {},
   "source": [
    "        step 1. Define the Mixing hamiltonian."
   ]
  },
  {
   "cell_type": "code",
   "execution_count": 72,
   "metadata": {},
   "outputs": [],
   "source": [
    "def indicator_operator(state:list):\n",
    "    \"\"\"Returns a projector on the subspace spanned by the quantum state `state`.\"\"\"\n",
    "    operator = 1\n",
    "    for b in state:\n",
    "        operator *= ((1 - Z(b))/2 + np.mod(b+1,2))\n",
    "\n",
    "    return operator\n",
    "\n",
    "def switching_operator(in_state:np.ndarray,out_state:np.ndarray):\n",
    "    \"\"\"Returns an operator that maps computational basis state `in_state` to `out_state`.\"\"\"\n",
    "    operator = 1\n",
    "    for iQubit,b in enumerate(in_state - out_state):\n",
    "        if b != 0:\n",
    "            operator *= X(iQubit)\n",
    "\n",
    "    return operator\n",
    "\n",
    "def build_mixer_hamiltonian(nQubits:int,duration:list,subspace:list) -> SymbolicHamiltonian:\n",
    "    '''\n",
    "    build the mixer hamiltonian for the given graph.\n",
    "\n",
    "    args:\n",
    "        nQubits: The number of qubits the hamiltonian acts upon.\n",
    "        duration: List containing the duration associated with each task.\n",
    "        subspace: A list of the vectors in the subspace that fulfills the constraint.\n",
    "\n",
    "    returns:\n",
    "        The mixer hamiltonian of the given graph\n",
    "\n",
    "    '''\n",
    "    # sanity check\n",
    "    if not nQubits == len(duration): raise ValueError(\"Every qubit must have a duration that is associated with the corresponding task!\")\n",
    "    # dimension of the subspace\n",
    "    N = len(subspace)\n",
    "\n",
    "    mixing_hamiltonian = sum([indicator_operator(subspace[iState]) * switching_operator(subspace[iState],subspace[(iState+1) % N]) for iState in range(N)])\n",
    "\n",
    "    return SymbolicHamiltonian(mixing_hamiltonian)"
   ]
  },
  {
   "cell_type": "markdown",
   "metadata": {},
   "source": [
    "        Step 2. Prepare the initial state that satisfies the inequality constraint"
   ]
  },
  {
   "cell_type": "code",
   "execution_count": 73,
   "metadata": {},
   "outputs": [],
   "source": [
    "hilbert_space = np.array([[int(b) for b in np.binary_repr(k,width=nQubits)] for k in range(2**nQubits)])\n",
    "\n",
    "subspace_mask = np.array([sum(hilbert_space[iState,:] * duration) <= max_duration for iState in range(hilbert_space.shape[0])])\n",
    "subspace = hilbert_space[subspace_mask,:]\n",
    "\n",
    "initial_state = subspace_mask.astype(float) / np.sqrt(sum(subspace_mask))"
   ]
  },
  {
   "cell_type": "markdown",
   "metadata": {},
   "source": [
    "        Step 3. Run the QAOA algorithm."
   ]
  },
  {
   "cell_type": "code",
   "execution_count": 74,
   "metadata": {},
   "outputs": [
    {
     "name": "stdout",
     "output_type": "stream",
     "text": [
      "[-0.01685163 -0.00635232 -0.0082818   0.02327075  0.02327841 -0.01527427\n",
      " -0.003817   -0.00135149  0.02748408 -0.03117137]\n",
      "best energy:  -135.74246149439523\n"
     ]
    }
   ],
   "source": [
    "hamiltonian = build_cost_hamiltonian(values=values, duration=duration, max_duration=max_duration)\n",
    "mixer_hamiltonian = build_mixer_hamiltonian(nQubits,duration,subspace)\n",
    "\n",
    "# create QAOA model given the Hamiltonians\n",
    "qaoa = models.QAOA(hamiltonian=hamiltonian, mixer=mixer_hamiltonian)\n",
    "\n",
    "# optimize using random initial variational parameters with four layers \n",
    "n_layers = 5\n",
    "# initial_parameters = 0.01 * np.random.random(n_layers * 2)\n",
    "initial_parameters =  0.01 *  (2 * np.random.random(n_layers * 2) - 1) * np.pi\n",
    "print(initial_parameters)\n",
    "\n",
    "# run the QAOA optimization with the initial parameters and the hamiltonians defined \n",
    "\n",
    "# Define random initial variational parameters with four layers \n",
    "n_layers = 4\n",
    "initial_parameters = 0.01 * np.random.random(n_layers * 2)\n",
    "\n",
    "\n",
    "\"\"\"\n",
    "supported optimization Method: \n",
    "- Nelder-Mead \n",
    "- parallel_L-BFGS-B\n",
    "- Powell\n",
    "- CG\n",
    "- cma\n",
    "- sgd\n",
    "- L-BFGS-B\n",
    "- Newton-CG\n",
    "- COBYLA\n",
    "- BFGS\n",
    "- trust-constr\n",
    "\"\"\"\n",
    "method = \"Powell\"\n",
    "\n",
    "\n",
    "best_energy, final_parameters, _ = qaoa.minimize(\n",
    "    initial_parameters,\n",
    "    method=method,\n",
    "    initial_state=initial_state\n",
    ")\n",
    "\n",
    "print(\"best energy: \", best_energy)"
   ]
  }
 ],
 "metadata": {
  "kernelspec": {
   "display_name": "Python 3",
   "language": "python",
   "name": "python3"
  },
  "language_info": {
   "codemirror_mode": {
    "name": "ipython",
    "version": 3
   },
   "file_extension": ".py",
   "mimetype": "text/x-python",
   "name": "python",
   "nbconvert_exporter": "python",
   "pygments_lexer": "ipython3",
   "version": "3.8.16"
  }
 },
 "nbformat": 4,
 "nbformat_minor": 2
}
