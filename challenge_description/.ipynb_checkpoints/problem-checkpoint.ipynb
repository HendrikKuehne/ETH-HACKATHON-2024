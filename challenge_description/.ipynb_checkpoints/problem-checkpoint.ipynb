{
 "cells": [
  {
   "cell_type": "markdown",
   "metadata": {},
   "source": [
    "# Define the problem"
   ]
  },
  {
   "cell_type": "markdown",
   "metadata": {},
   "source": [
    "**Process Management Problem**\n",
    "\n",
    "In the process management problem, we are given a set of tasks represented by processes $p$. Each process $p_i$ has an associated value $v_i$​ (indicating its importance) and a duration $d_i$​ (representing the time required to execute the task). Additionally, there exists a maximum allowed duration $d_{max}$​ within which we must execute these tasks.\n",
    "\n",
    "\n",
    "Our objective is to select a subset $S$ of processes from $p$ such that their total duration does not exceed $d_{max}$​, while maximizing the overall value of the executed processes. In other words, we aim to find the set S that maximizes the expression:\n",
    "\n",
    "$$\\sum_{i\\in S} v_i$$\n",
    "\n",
    "subject to the constraint:\n",
    "\n",
    "$$\\sum_{i\\in S} d_i \\leq d_{max}$$"
   ]
  },
  {
   "cell_type": "markdown",
   "metadata": {},
   "source": [
    "## Define problem instance"
   ]
  },
  {
   "cell_type": "code",
   "execution_count": 26,
   "metadata": {},
   "outputs": [
    {
     "name": "stdout",
     "output_type": "stream",
     "text": [
      "--------------------\n",
      "Instance Details:\n",
      "--------------------\n",
      "Duration                 : [3, 3, 6, 6, 7, 7]\n",
      "Values                   : [7, 15, 8, 15, 7, 8]\n",
      "Total duration           : 32\n",
      "Maximum allowed duration : 22\n"
     ]
    }
   ],
   "source": [
    "import random \n",
    "\n",
    "\n",
    "random.seed(13)\n",
    "\n",
    "# Define the number of items\n",
    "n_items = 6\n",
    "\n",
    "# Define ranges\n",
    "duration_range = [1, 7]\n",
    "values_range = [5, 15]\n",
    "max_duration_percentage = 0.7\n",
    "\n",
    "# Fill the weights and values \n",
    "duration = [random.randint(duration_range[0], duration_range[1]) for _ in range(n_items)]\n",
    "values  = [random.randint(values_range[0], values_range[1]) for _ in range(n_items)]\n",
    "\n",
    "# Compute the maximum allowed weight\n",
    "max_duration = int(max_duration_percentage * sum(duration))\n",
    "\n",
    "# Print the instance\n",
    "print(\"-\" * 20)\n",
    "print(\"Instance Details:\")\n",
    "print(\"-\" * 20)\n",
    "print(f\"Duration                 : {duration}\")\n",
    "print(f\"Values                   : {values}\")\n",
    "print(f\"Total duration           : {sum(duration)}\")\n",
    "print(f\"Maximum allowed duration : {max_duration}\")"
   ]
  },
  {
   "cell_type": "markdown",
   "metadata": {},
   "source": [
    "Reference Solution (Selected Processes are **Bolded**):\n",
    "\n",
    "Duration: [3, **3**, **6**, **6**, 7, **7**]\n",
    "\n",
    "Values: [7, **15**, **8**, **15**, 7, **8**]\n",
    "\n",
    "Total selected Duration: 22\n",
    "\n",
    "Total selected values: 46"
   ]
  },
  {
   "cell_type": "markdown",
   "metadata": {},
   "source": [
    "# Hackathon Tasks \n"
   ]
  },
  {
   "cell_type": "markdown",
   "metadata": {},
   "source": [
    "## Problem 1"
   ]
  },
  {
   "cell_type": "markdown",
   "metadata": {},
   "source": [
    "### Build the cost hamiltonians for the Process Management problem:"
   ]
  },
  {
   "cell_type": "code",
   "execution_count": 27,
   "metadata": {},
   "outputs": [
    {
     "name": "stdout",
     "output_type": "stream",
     "text": [
      "5\n"
     ]
    }
   ],
   "source": [
    "import numpy as np\n",
    "\n",
    "# Reformulate constraint as an equality by introducting x such that:\n",
    "# C = \\sum_{i \\in S} v_i\n",
    "# subject to \\sum_{i \\in S} d_i + x = d_max\n",
    "\n",
    "# Number of ancillas to represent 0 <= x <= d_max\n",
    "n_ancillas = int(np.ceil( np.log2(max_duration) ))\n",
    "\n",
    "binary_decomp = [2**i for i in range(n_ancillas)]\n",
    "\n",
    "print(n_ancillas)"
   ]
  },
  {
   "cell_type": "code",
   "execution_count": 36,
   "metadata": {},
   "outputs": [],
   "source": [
    "from qibo.symbols import Z, X\n",
    "from qibo.hamiltonians import SymbolicHamiltonian\n",
    "\n",
    "def build_cost_hamiltonian(values: list[int], duration: list[int], max_duration: int) -> SymbolicHamiltonian:\n",
    "    \"\"\"This function should be filled to build the problem cost hamiltonian.\n",
    "\n",
    "    Args:\n",
    "        values (list[int]): the list of values.\n",
    "        duration (list[int]): the list of durations. \n",
    "        max_duration (int): the maximum value of the allowed duration.\n",
    "        \n",
    "    \"\"\"\n",
    "\n",
    "    \n",
    "    \n",
    "    \n",
    "    cost_hamiltonian = - sum([values[i] * (1-Z(i))/2 for i in range(len(values))]) +\\\n",
    "                        ( sum([ duration[i]*(1-Z(i))/2 for i in range(len(duration))])+ sum([ binary_decomp[j] * (1-Z(j))/2 for j in range(n_ancillas)]) - max_duration   )**2\n",
    "\n",
    "    # cost_hamiltonian = - sum([values[i] * (1-Z(i))/2 for i in range(len(values))]) \n",
    "    # cost_hamiltonian = sum( [ - values[i]/duration[i] * (1-Z(i))/2 for i in range(len(duration)) ])\n",
    "    # cost_hamiltonian = -(1 - (sum([duration[i]*(1-Z(i))/2 for i in range(len(duration))]))/max_duration) *\\\n",
    "    #     sum([(values[i])*(1-Z(i))/2 for i in range(len(duration))])\n",
    "    \n",
    "    return SymbolicHamiltonian(cost_hamiltonian)"
   ]
  },
  {
   "cell_type": "markdown",
   "metadata": {},
   "source": [
    "### Compute the number fo qubits required to execute the cost hamiltonian"
   ]
  },
  {
   "cell_type": "code",
   "execution_count": 37,
   "metadata": {},
   "outputs": [],
   "source": [
    "# define the number of qubits:\n",
    "\n",
    "nqubits = 6 + n_ancillas # 6 task qubits + n_ancillas ancillas"
   ]
  },
  {
   "cell_type": "markdown",
   "metadata": {},
   "source": [
    "### Diagonalize the cost hamiltonian and examen its eigenvalues and eigenvectors. \n",
    "- Show that the ground state eigenvector does actually correspond to the ground state energy of the problem. (Note: the ground state could be degenerate)"
   ]
  },
  {
   "cell_type": "code",
   "execution_count": 39,
   "metadata": {},
   "outputs": [
    {
     "name": "stderr",
     "output_type": "stream",
     "text": [
      "[Qibo 0.2.7|INFO|2024-05-04 19:25:49]: Using numpy backend on /CPU:0\n",
      "[Qibo 0.2.7|WARNING|2024-05-04 19:25:49]: Calculating the dense form of a symbolic Hamiltonian. This operation is memory inefficient.\n"
     ]
    },
    {
     "name": "stdout",
     "output_type": "stream",
     "text": [
      "\n",
      "\u001b[0m00000110100, (-36+0j):.02f, value = 30, duration = 16\n",
      "\u001b[0m00000011001, (-31+0j):.02f, value = 23, duration = 12\n",
      "\u001b[0m00000000101, (-22+0j):.02f, value = 7, duration = 7\n",
      "\u001b[0m00000010101, (-22+0j):.02f, value = 15, duration = 13\n",
      "\u001b[0m00000101001, (-22+0j):.02f, value = 30, duration = 9\n",
      "\u001b[0m00000111001, (-22+0j):.02f, value = 38, duration = 15\n",
      "\u001b[0m00000010100, (-21+0j):.02f, value = 15, duration = 13\n",
      "\u001b[0m00000100101, (-21+0j):.02f, value = 22, duration = 10\n",
      "\u001b[0m00000111000, (-21+0j):.02f, value = 38, duration = 15\n",
      "\u001b[0m00000001100, (-19+0j):.02f, value = 22, duration = 13\n",
      "\u001b[0m00000000010, (-6+0j):.02f, value = 8, duration = 7\n",
      "\u001b[0m00000100100, (-6+0j):.02f, value = 22, duration = 10\n",
      "\u001b[0m00000101100, (6+0j):.02f, value = 37, duration = 16\n",
      "\u001b[0m00000110001, (6+0j):.02f, value = 23, duration = 9\n",
      "\u001b[0m00000001001, (9+0j):.02f, value = 15, duration = 6\n",
      "\u001b[0m00000011100, (11+0j):.02f, value = 30, duration = 19\n",
      "\u001b[0m00000100010, (11+0j):.02f, value = 23, duration = 10\n",
      "\u001b[0m00000010010, (14+0j):.02f, value = 16, duration = 13\n",
      "\u001b[0m00000110101, (19+0j):.02f, value = 30, duration = 16\n",
      "\u001b[0m00000011000, (26+0j):.02f, value = 23, duration = 12\n",
      "\u001b[0m00000000011, (49+0j):.02f, value = 8, duration = 7\n",
      "\u001b[0m00000000100, (49+0j):.02f, value = 7, duration = 7\n",
      "\u001b[0m00000101000, (49+0j):.02f, value = 30, duration = 9\n",
      "\u001b[0m00000001101, (50+0j):.02f, value = 22, duration = 13\n",
      "\u001b[0m00000110010, (71+0j):.02f, value = 31, duration = 16\n",
      "\u001b[0m00000111100, (76+0j):.02f, value = 45, duration = 22\n",
      "\u001b[0m00000010001, (77+0j):.02f, value = 8, duration = 6\n",
      "\u001b[0m00000001010, (106+0j):.02f, value = 23, duration = 13\n",
      "\u001b[0m00000100001, (106+0j):.02f, value = 15, duration = 3\n",
      "\u001b[0m00000100011, (122+0j):.02f, value = 23, duration = 10\n",
      "\u001b[0m00000101101, (131+0j):.02f, value = 37, duration = 16\n",
      "\u001b[0m00000001000, (136+0j):.02f, value = 15, duration = 6\n",
      "\u001b[0m00000010011, (139+0j):.02f, value = 16, duration = 13\n",
      "\u001b[0m00000110000, (147+0j):.02f, value = 23, duration = 9\n",
      "\u001b[0m00000011101, (150+0j):.02f, value = 30, duration = 19\n",
      "\u001b[0m00000000110, (203+0j):.02f, value = 15, duration = 14\n",
      "\u001b[0m00000101010, (203+0j):.02f, value = 38, duration = 16\n",
      "\u001b[0m00000000001, (217+0j):.02f, value = 0, duration = 0\n",
      "\u001b[0m00000011010, (226+0j):.02f, value = 31, duration = 19\n",
      "\u001b[0m00000110011, (252+0j):.02f, value = 31, duration = 16\n",
      "\u001b[0m00000111101, (271+0j):.02f, value = 45, duration = 22\n",
      "\u001b[0m00000010000, (274+0j):.02f, value = 8, duration = 6\n",
      "\u001b[0m00000001011, (301+0j):.02f, value = 23, duration = 13\n",
      "\u001b[0m00000100000, (317+0j):.02f, value = 15, duration = 3\n",
      "\u001b[0m00000100110, (332+0j):.02f, value = 30, duration = 17\n",
      "\u001b[0m00000010110, (363+0j):.02f, value = 23, duration = 20\n",
      "\u001b[0m00000111010, (363+0j):.02f, value = 46, duration = 22\n",
      "\u001b[0m00000000111, (454+0j):.02f, value = 15, duration = 14\n",
      "\u001b[0m00000101011, (454+0j):.02f, value = 38, duration = 16\n",
      "\u001b[0m00000000000, (484+0j):.02f, value = 0, duration = 0\n",
      "\u001b[0m00000011011, (491+0j):.02f, value = 31, duration = 19\n",
      "\u001b[93m00000110110, (532+0j):.02f, value = 38, duration = 23\n",
      "\u001b[0m00000001110, (595+0j):.02f, value = 30, duration = 20\n",
      "\u001b[0m00000100111, (639+0j):.02f, value = 30, duration = 17\n",
      "\u001b[0m00000010111, (684+0j):.02f, value = 23, duration = 20\n",
      "\u001b[0m00000111011, (684+0j):.02f, value = 46, duration = 22\n",
      "\u001b[93m00000101110, (804+0j):.02f, value = 45, duration = 23\n",
      "\u001b[93m00000011110, (855+0j):.02f, value = 38, duration = 26\n",
      "\u001b[93m00000110111, (909+0j):.02f, value = 38, duration = 23\n",
      "\u001b[0m00000001111, (986+0j):.02f, value = 30, duration = 20\n",
      "\u001b[93m00000111110, (1104+0j):.02f, value = 53, duration = 29\n",
      "\u001b[93m00000101111, (1251+0j):.02f, value = 45, duration = 23\n",
      "\u001b[93m00000011111, (1316+0j):.02f, value = 38, duration = 26\n",
      "\u001b[93m00000111111, (1621+0j):.02f, value = 53, duration = 29\n"
     ]
    }
   ],
   "source": [
    "import numpy as np\n",
    "from qibo import set_backend\n",
    "\n",
    "# set the backend used for the calculation \n",
    "set_backend(\"numpy\", platform=None)\n",
    "\n",
    "\n",
    "# create the cost Hamiltonian for the given graph\n",
    "cost_hamiltonian = build_cost_hamiltonian(values=values, duration=duration, max_duration=max_duration)\n",
    "\n",
    "ham_matrix = cost_hamiltonian.matrix\n",
    "\n",
    "eig_val, eig_vec = np.linalg.eig(ham_matrix)\n",
    "eig_vec = [\"{0:0{bits}b}\".format(i.argmax(), bits=nqubits) for i in eig_vec]\n",
    "\n",
    "vec = zip(eig_val, eig_vec)\n",
    "diagonalized_solution = sorted(vec, key=lambda x: x[0])\n",
    "\n",
    "print()\n",
    "#print(diagonalized_solution)\n",
    "\n",
    "for sol in diagonalized_solution:\n",
    "    dur_sol = sum([duration[i] for i in range(len(duration)) if sol[1][n_ancillas-1+i]==\"1\"])\n",
    "    val_sol = sum([values[i] for i in range(len(values)) if sol[1][n_ancillas-1+i]==\"1\"])\n",
    "\n",
    "    if dur_sol > max_duration:\n",
    "        print(\"\\033[93m\",end=\"\")\n",
    "    else:\n",
    "        print(\"\\033[0m\",end=\"\")\n",
    "    print(f\"{sol[1]}, {sol[0]}:.02f, value = {val_sol}, duration = {dur_sol}\")\n",
    "    "
   ]
  },
  {
   "cell_type": "code",
   "execution_count": null,
   "metadata": {},
   "outputs": [],
   "source": []
  },
  {
   "cell_type": "markdown",
   "metadata": {},
   "source": [
    "## Problem 2"
   ]
  },
  {
   "cell_type": "markdown",
   "metadata": {},
   "source": [
    "### Given that we only have **6 qubits** to solve this problem. Reduce the hamiltonian to use **only 6 qubits**."
   ]
  },
  {
   "cell_type": "code",
   "execution_count": 31,
   "metadata": {},
   "outputs": [],
   "source": [
    "nqubits = 6\n",
    "\n",
    "def build_cost_hamiltonian(values: list[int], duration: list[int], max_duration: int) -> SymbolicHamiltonian:\n",
    "    \"\"\"This function should be filled to build the problem cost hamiltonian.\n",
    "\n",
    "    Args:\n",
    "        values (list[int]): the list of values.\n",
    "        duration (list[int]): the list of durations. \n",
    "        max_duration (int): the maximum value of the allowed duration.\n",
    "        \n",
    "    \"\"\"\n",
    "\n",
    "    cost_hamiltonian = - sum([values[i] * (1-Z(i))/2 for i in range(len(values))]) + sum([duration[i] * (1-Z(i))/2 for i in range(len(duration))])\n",
    " \n",
    "    return SymbolicHamiltonian(cost_hamiltonian)"
   ]
  },
  {
   "cell_type": "markdown",
   "metadata": {},
   "source": [
    "### Solve this hamiltonian using the QAOA algorithm. "
   ]
  },
  {
   "cell_type": "markdown",
   "metadata": {},
   "source": [
    "        step 1. Define the Mixing hamiltonian."
   ]
  },
  {
   "cell_type": "code",
   "execution_count": 32,
   "metadata": {},
   "outputs": [],
   "source": [
    "def build_mixer_hamiltonian(nqubits: int) -> SymbolicHamiltonian:\n",
    "    '''\n",
    "    build the mixer hamiltonian for the given graph.\n",
    "\n",
    "    args:\n",
    "        graph: graph\n",
    "            A network graph\n",
    "\n",
    "    returns:\n",
    "        The mixer hamiltonian of the given graph\n",
    "\n",
    "    '''\n",
    "    mixing_hamiltonian = sum([ X(i) for i in range(nqubits)]) # TODO: define the Mixing Hamiltonian \n",
    "    \n",
    "    return SymbolicHamiltonian(mixing_hamiltonian)"
   ]
  },
  {
   "cell_type": "markdown",
   "metadata": {},
   "source": [
    "        Step 2. Run the QAOA algorithm."
   ]
  },
  {
   "cell_type": "code",
   "execution_count": 33,
   "metadata": {},
   "outputs": [
    {
     "name": "stdout",
     "output_type": "stream",
     "text": [
      "[ 0.00525861 -0.01155554 -0.00236188  0.01397099  0.02766209 -0.01716882\n",
      " -0.01959976  0.00774636 -0.00137261  0.00296785]\n",
      "best energy:  -27.273121667037685\n"
     ]
    }
   ],
   "source": [
    "from qibo import models\n",
    "\n",
    "hamiltonian = build_cost_hamiltonian(values=values, duration=duration, max_duration=max_duration)\n",
    "mixer_hamiltonian = build_mixer_hamiltonian(nqubits)\n",
    "\n",
    "# create QAOA model given the Hamiltonians\n",
    "qaoa = models.QAOA(hamiltonian=hamiltonian, mixer=mixer_hamiltonian)\n",
    "\n",
    "# optimize using random initial variational parameters with four layers \n",
    "n_layers = 5\n",
    "# initial_parameters = 0.01 * np.random.random(n_layers * 2)\n",
    "initial_parameters =  0.01 *  (2 * np.random.random(n_layers * 2) - 1) * np.pi\n",
    "print(initial_parameters)\n",
    "\n",
    "# run the QAOA optimization with the initial parameters and the hamiltonians defined \n",
    "\n",
    "# Define random initial variational parameters with four layers \n",
    "n_layers = 4\n",
    "initial_parameters = 0.01 * np.random.random(n_layers * 2)\n",
    "\n",
    "\n",
    "\"\"\"\n",
    "supported optimization Method: \n",
    "- Nelder-Mead \n",
    "- parallel_L-BFGS-B\n",
    "- Powell\n",
    "- CG\n",
    "- cma\n",
    "- sgd\n",
    "- L-BFGS-B\n",
    "- Newton-CG\n",
    "- COBYLA\n",
    "- BFGS\n",
    "- trust-constr\n",
    "\"\"\"\n",
    "method = \"Powell\"\n",
    "\n",
    "\n",
    "best_energy, final_parameters, _ = qaoa.minimize(initial_parameters, method=method)\n",
    "\n",
    "print(\"best energy: \", best_energy)"
   ]
  },
  {
   "cell_type": "markdown",
   "metadata": {},
   "source": [
    "    Step 3. Display solution and compare it to the ground state you obtained in problem 1"
   ]
  },
  {
   "cell_type": "code",
   "execution_count": 34,
   "metadata": {},
   "outputs": [
    {
     "name": "stdout",
     "output_type": "stream",
     "text": [
      "[('27.49 %', '111101'), ('27.49 %', '111111'), ('12.53 %', '111100'), ('12.53 %', '111110'), ('6.71 %', '110101'), ('6.71 %', '110111'), ('3.06 %', '110100'), ('3.06 %', '110110'), ('0.09 %', '011101'), ('0.09 %', '011111'), ('0.04 %', '011100'), ('0.04 %', '011110'), ('0.02 %', '010101'), ('0.02 %', '010111'), ('0.02 %', '111001'), ('0.02 %', '111011'), ('0.01 %', '010100'), ('0.01 %', '010110'), ('0.01 %', '111000'), ('0.01 %', '111010'), ('0.00 %', '101101'), ('0.00 %', '101111'), ('0.00 %', '110001'), ('0.00 %', '110011'), ('0.00 %', '101100'), ('0.00 %', '101110'), ('0.00 %', '110000'), ('0.00 %', '110010'), ('0.00 %', '100101'), ('0.00 %', '100111'), ('0.00 %', '100100'), ('0.00 %', '100110'), ('0.00 %', '011001'), ('0.00 %', '011011'), ('0.00 %', '011000'), ('0.00 %', '011010'), ('0.00 %', '001101'), ('0.00 %', '001111'), ('0.00 %', '010001'), ('0.00 %', '010011'), ('0.00 %', '001100'), ('0.00 %', '001110'), ('0.00 %', '010000'), ('0.00 %', '010010'), ('0.00 %', '000101'), ('0.00 %', '000111'), ('0.00 %', '101001'), ('0.00 %', '101011'), ('0.00 %', '000100'), ('0.00 %', '000110'), ('0.00 %', '101000'), ('0.00 %', '101010'), ('0.00 %', '100001'), ('0.00 %', '100011'), ('0.00 %', '100000'), ('0.00 %', '100010'), ('0.00 %', '001001'), ('0.00 %', '001011'), ('0.00 %', '001000'), ('0.00 %', '001010'), ('0.00 %', '000001'), ('0.00 %', '000011'), ('0.00 %', '000000'), ('0.00 %', '000010')]\n",
      "----------\n",
      "The best solution is: 111101\n"
     ]
    }
   ],
   "source": [
    "qaoa.set_parameters(final_parameters)\n",
    "quantum_state = qaoa.execute(None)\n",
    "\n",
    "probabilities = (np.abs(quantum_state) ** 2)\n",
    "probabilities = zip(probabilities, [i for i in range(len(probabilities))])\n",
    "probabilities = sorted(probabilities, key=lambda x: x[0], reverse=True)\n",
    "probabilities = [(\"{:.2f} %\".format(round(p*100, 4)), \"{0:0{bits}b}\".format(s, bits=nqubits)) for p, s in probabilities]\n",
    "print(probabilities)\n",
    "qaoa_solution = probabilities[0][1]\n",
    "print(\"-\"*10)\n",
    "\n",
    "print(\"The best solution is:\", qaoa_solution )"
   ]
  },
  {
   "cell_type": "markdown",
   "metadata": {},
   "source": [
    "### Solve this hamiltonian using Quantum Adiabatic Evolution"
   ]
  },
  {
   "cell_type": "markdown",
   "metadata": {},
   "source": [
    "        Setp 1. Define initial hamiltonian"
   ]
  },
  {
   "cell_type": "code",
   "execution_count": 10,
   "metadata": {},
   "outputs": [],
   "source": [
    "def build_initial_hamiltonian(nqubits: int) -> SymbolicHamiltonian:\n",
    "    '''\n",
    "    build the mixer hamiltonian for the given graph.\n",
    "\n",
    "    args:\n",
    "        graph: graph\n",
    "            A network graph\n",
    "\n",
    "    returns:\n",
    "        The mixer hamiltonian of the given graph\n",
    "\n",
    "    '''\n",
    "    mixing_hamiltonian = sum([X(i) for i in range(nqubits)]) # TODO: define the Mixing Hamiltonian \n",
    "    \n",
    "    return SymbolicHamiltonian(mixing_hamiltonian)"
   ]
  },
  {
   "cell_type": "markdown",
   "metadata": {},
   "source": [
    "    Step 2. Run the Adiabatic Evolution"
   ]
  },
  {
   "cell_type": "code",
   "execution_count": 11,
   "metadata": {},
   "outputs": [],
   "source": [
    "import numpy as np\n",
    "from qibo.models.evolution import AdiabaticEvolution\n",
    "from qibo.hamiltonians.hamiltonians import Hamiltonian\n",
    "\n",
    "\n",
    "# build initial (H0) and target (H1) hamiltonians\n",
    "H0 = build_initial_hamiltonian(nqubits=nqubits)\n",
    "H1 = build_cost_hamiltonian(values=values, duration=duration, max_duration=max_duration)\n",
    "\n",
    "# calculate the dense hamiltonian from the symbolic hamiltonian\n",
    "H1_dense = Hamiltonian(nqubits, H1.calculate_dense().matrix)\n",
    "H0_dense = Hamiltonian(nqubits, H0.calculate_dense().matrix)\n",
    "\n",
    "# Define the time steps\n",
    "dt = 0.1\n",
    "\n",
    "# Define the final evolution time\n",
    "T = 20\n",
    "\n",
    "# define the schedule. This is a function of time that defines the scheduling of the adiabatic evolution. \n",
    "# Can be either a function of time s(t) or a function with two arguments s(t, p) \n",
    "# where p corresponds to a vector of parameters to be optimized.\n",
    "def s(t): return t\n",
    "\n",
    "# construct the adiabatic model\n",
    "adiabatic_model = AdiabaticEvolution(H0_dense, H1_dense, s, dt)\n",
    "\n",
    "# execute the adiabatic optimization\n",
    "adiabatic_quantum_state = adiabatic_model.execute(final_time=T)"
   ]
  },
  {
   "cell_type": "markdown",
   "metadata": {},
   "source": [
    "    Step 3. Display solution and compare it to the ground state you obtained in problem 1 and using QAOA"
   ]
  },
  {
   "cell_type": "code",
   "execution_count": 12,
   "metadata": {},
   "outputs": [
    {
     "name": "stdout",
     "output_type": "stream",
     "text": [
      "the solution is:  111111\n"
     ]
    }
   ],
   "source": [
    "# obtain the state with the highest probability\n",
    "solution_dec  = (np.abs(adiabatic_quantum_state) ** 2).argmax()\n",
    "adiabatic_solution = \"{0:0{bits}b}\".format(solution_dec, bits=nqubits)\n",
    "\n",
    "\n",
    "print(\"the solution is: \", adiabatic_solution)"
   ]
  },
  {
   "cell_type": "markdown",
   "metadata": {},
   "source": [
    "### What are the downsides to the method you used to reduce the number of qubits? "
   ]
  },
  {
   "cell_type": "markdown",
   "metadata": {},
   "source": [
    "write your answer here..."
   ]
  },
  {
   "cell_type": "markdown",
   "metadata": {},
   "source": [
    "## Problem 3"
   ]
  },
  {
   "cell_type": "markdown",
   "metadata": {},
   "source": [
    "### Given this new dataset generate a hamiltonian that only uses 3 qubits "
   ]
  },
  {
   "cell_type": "code",
   "execution_count": 13,
   "metadata": {},
   "outputs": [
    {
     "name": "stdout",
     "output_type": "stream",
     "text": [
      "--------------------\n",
      "Instance Details:\n",
      "--------------------\n",
      "Duration                 : [3, 3, 6]\n",
      "Values                   : [6, 2, 6]\n",
      "Total duration           : 12\n",
      "Maximum allowed duration : 8\n"
     ]
    }
   ],
   "source": [
    "import random \n",
    "\n",
    "\n",
    "random.seed(13)\n",
    "\n",
    "# Define the number of items\n",
    "n_items = 3\n",
    "\n",
    "# Define ranges\n",
    "max_duration_percentage = 0.7\n",
    "\n",
    "# Fill the weights and values \n",
    "values   = [6, 2, 6]\n",
    "duration = [3, 3, 6]\n",
    "\n",
    "# Compute the maximum allowed weight\n",
    "max_duration = int(max_duration_percentage * sum(duration))\n",
    "\n",
    "\n",
    "\n",
    "# Print the instance\n",
    "print(\"-\" * 20)\n",
    "print(\"Instance Details:\")\n",
    "print(\"-\" * 20)\n",
    "print(f\"Duration                 : {duration}\")\n",
    "print(f\"Values                   : {values}\")\n",
    "print(f\"Total duration           : {sum(duration)}\")\n",
    "print(f\"Maximum allowed duration : {max_duration}\")"
   ]
  },
  {
   "cell_type": "markdown",
   "metadata": {},
   "source": [
    "### Design a circuit layout that is suitable for this Hamiltonian"
   ]
  },
  {
   "cell_type": "markdown",
   "metadata": {},
   "source": [
    "    Step 1. Create each element of the circuit"
   ]
  },
  {
   "cell_type": "markdown",
   "metadata": {},
   "source": [
    "Your qubits will have a critical current of 230nA, shunting capacitance of 50fF, Z loop capacitance of 4.4fF, inductance of 480pH, x to z loop current ration of 0.4 and junction assymetry of 0.\n",
    "\n",
    "The coupler's parameters are given"
   ]
  },
  {
   "cell_type": "code",
   "execution_count": 14,
   "metadata": {},
   "outputs": [
    {
     "name": "stderr",
     "output_type": "stream",
     "text": [
      "C:\\Users\\yaron\\AppData\\Local\\Programs\\Python\\Python310\\lib\\site-packages\\scipy\\sparse\\linalg\\_dsolve\\linsolve.py:412: SparseEfficiencyWarning: splu converted its input to CSC format\n",
      "  warn('splu converted its input to CSC format', SparseEfficiencyWarning)\n"
     ]
    }
   ],
   "source": [
    "import cas as cas\n",
    "\n",
    "# coupler parameters\n",
    "i_sigma = 565\n",
    "c_sigma = 11\n",
    "lc = 580\n",
    "d = 0.0\n",
    "# qubit parameters\n",
    "i_c = 230\n",
    "c_shunt = 50\n",
    "c_z = 4.4\n",
    "lq = 480\n",
    "alpha = 0.4\n",
    "d = 0.0\n",
    "\n",
    "# define couplers and qubits\n",
    "\n",
    "\n",
    "coupler01 = cas.Coupler(i_sigma, c_sigma, lc, d)\n",
    "coupler12 = cas.Coupler(i_sigma, c_sigma, lc, d)\n",
    "coupler20 = cas.Coupler(i_sigma, c_sigma, lc, d)\n",
    "\n",
    "qubit0 = cas.CSFQ(i_c, c_shunt, c_z, lq, alpha, d)\n",
    "qubit1 = cas.CSFQ(i_c, c_shunt, c_z, lq, alpha, d)\n",
    "qubit2 = cas.CSFQ(i_c, c_shunt, c_z, lq, alpha, d)\n",
    "\n",
    "circuit_elements = [qubit0, coupler01, qubit1, coupler12, qubit2, coupler20]"
   ]
  },
  {
   "cell_type": "markdown",
   "metadata": {},
   "source": [
    "    Step 2. Define the qubit-coupler interaction and create the circuit object"
   ]
  },
  {
   "cell_type": "markdown",
   "metadata": {},
   "source": [
    "A good approximation is to consider only the first 5 energy levels of the qubit and the first 2 energy levels of the coupler"
   ]
  },
  {
   "cell_type": "code",
   "execution_count": 15,
   "metadata": {},
   "outputs": [],
   "source": [
    "m = 65; m_mat = np.zeros((6, 6)) # mutual inductance matrix (given)\n",
    "\n",
    "m_mat[0, 1] = -m; m_mat[1, 2] = m\n",
    "m_mat[2, 3] = -m; m_mat[3, 4] = m\n",
    "m_mat[4, 5] = -m; m_mat[5, 0] = m\n",
    "\n",
    "m_mat = -(m_mat + m_mat.T)\n",
    "\n",
    "trunc_vec = np.array([5, 2, 5, 2, 5, 2]) # truncation vector for the energies of each element\n",
    "circuit = cas.AnnealingCircuit(circuit_elements, m_mat, trunc_vec)"
   ]
  },
  {
   "cell_type": "markdown",
   "metadata": {},
   "source": [
    "### Design an annealing Ising schedule "
   ]
  },
  {
   "cell_type": "markdown",
   "metadata": {},
   "source": [
    "    Step 1. Define the starting (initial) and objective hamiltonian coefficients"
   ]
  },
  {
   "cell_type": "code",
   "execution_count": 16,
   "metadata": {},
   "outputs": [],
   "source": [
    "# initialization hamiltonian\n",
    "h0 = {} # type: dict[str, np.ndarray]\n",
    "# H_0 = sum([X(i) for i in range(nqubits])\n",
    "h0[\"x_0\"] = 1\n",
    "h0[\"x_1\"] = 0.9\n",
    "h0[\"x_2\"] = 0.8\n",
    "\n",
    "h0[\"z_0\"] = 0\n",
    "h0[\"z_1\"] = 0\n",
    "h0[\"z_2\"] = 0\n",
    "\n",
    "h0[\"zz_0,1\"] = 0\n",
    "h0[\"zz_1,2\"] = 0\n",
    "h0[\"zz_2,0\"] = 0\n",
    "\n",
    "# objective hamiltonian\n",
    "hf = {} # type: dict[str, np.ndarray]\n",
    "# H_C = sum([ values[i] * (Z(i)-1)/2 for i in range(nqubits])\n",
    "hf[\"x_0\"] = 0\n",
    "hf[\"x_1\"] = 0\n",
    "hf[\"x_2\"] = 0\n",
    "\n",
    "hf[\"z_0\"] = 0.9\n",
    "hf[\"z_1\"] = 1\n",
    "hf[\"z_2\"] = 0.8\n",
    "\n",
    "hf[\"zz_0,1\"] = 0\n",
    "hf[\"zz_1,2\"] = 0\n",
    "hf[\"zz_2,0\"] = 0"
   ]
  },
  {
   "cell_type": "markdown",
   "metadata": {},
   "source": [
    "    Step 2. Create a method to get a an arbitrary schedule for the circuit designed above"
   ]
  },
  {
   "cell_type": "code",
   "execution_count": 17,
   "metadata": {},
   "outputs": [],
   "source": [
    "def get_schedule(h0: dict[str, np.ndarray], hf: dict[str, np.ndarray], points: int, schedule: callable) -> dict[str, int | np.ndarray]:\n",
    "    \"\"\"Given the ising coefficients for the initial and final hamiltonian of the annealing schedule,\n",
    "    and given some time dependance of the schedule (eg. linear, exponential, etc), returns the ising\n",
    "    coefficients for x and z at each time step.\n",
    "\n",
    "    args:\n",
    "        h0 (dict[str, np.ndarray]): ising coefficients of the starting hamiltonian h0\n",
    "        hf (dict[str, np.ndarray]): ising coefficients of the target (final) hamiltonian hf\n",
    "        points (int): number of points in the annealing schedule\n",
    "        schedule (callable): time dependance of the schedule\n",
    "    \n",
    "    returns:\n",
    "        dict[str, np.ndarray]: Dictionary of ising coefficients at each step of the schedule\n",
    "    \"\"\"\n",
    "\n",
    "    ising_dict = {}\n",
    "    s = np.linspace(0, 1, points)\n",
    "    ising_dict[\"points\"] = points\n",
    "    \n",
    "    ising_dict[\"x_0\"] = schedule(h0[\"x_0\"], hf[\"x_0\"], points)*2*np.pi\n",
    "    ising_dict[\"x_1\"] = schedule(h0[\"x_1\"], hf[\"x_1\"], points)*2*np.pi\n",
    "    ising_dict[\"x_2\"] = schedule(h0[\"x_2\"], hf[\"x_2\"], points)*2*np.pi\n",
    "    \n",
    "    ising_dict[\"z_0\"] = schedule(h0[\"z_0\"], hf[\"z_0\"], points)*2*np.pi\n",
    "    ising_dict[\"z_1\"] = schedule(h0[\"z_1\"], hf[\"z_1\"], points)*2*np.pi\n",
    "    ising_dict[\"z_2\"] = schedule(h0[\"z_2\"], hf[\"z_2\"], points)*2*np.pi\n",
    "    \n",
    "    ising_dict[\"zz_0,1\"] = -schedule(h0[\"zz_0,1\"], hf[\"zz_0,1\"], points)*2*np.pi\n",
    "    ising_dict[\"zz_1,2\"] = schedule(h0[\"zz_1,2\"], hf[\"zz_1,2\"], points)*2*np.pi\n",
    "    ising_dict[\"zz_0,2\"] = schedule(h0[\"zz_2,0\"], hf[\"zz_2,0\"], points)*2*np.pi\n",
    "    \n",
    "    return ising_dict\n",
    "\n"
   ]
  },
  {
   "cell_type": "markdown",
   "metadata": {},
   "source": [
    "    Step 2. Get the ising coefficients for a linear and an exponential schedule for a resolution of 1ns"
   ]
  },
  {
   "cell_type": "code",
   "execution_count": 18,
   "metadata": {},
   "outputs": [],
   "source": [
    "# linear schedule\n",
    "linear_schedule = lambda xi, xf, n: np.array([xi + i * ((xf-xi)/(n-1)) for i in range(n)])\n",
    "ising_linear = get_schedule(h0, hf, points=100, schedule=linear_schedule)\n",
    "\n",
    "# exponential schedule\n",
    "# exponential_schedule = lambda xi, xf, n: [xi * np.exp((i*n*np.log(xf/(xi +0.0001)))) for i in range(n)]\n",
    "# ising_exponential = get_schedule(h0, hf, points=10, schedule=linear_exponential)"
   ]
  },
  {
   "cell_type": "code",
   "execution_count": 19,
   "metadata": {},
   "outputs": [
    {
     "ename": "KeyboardInterrupt",
     "evalue": "",
     "output_type": "error",
     "traceback": [
      "\u001b[1;31m---------------------------------------------------------------------------\u001b[0m",
      "\u001b[1;31mKeyboardInterrupt\u001b[0m                         Traceback (most recent call last)",
      "Cell \u001b[1;32mIn[19], line 2\u001b[0m\n\u001b[0;32m      1\u001b[0m \u001b[38;5;66;03m#BROUILLON\u001b[39;00m\n\u001b[1;32m----> 2\u001b[0m \u001b[38;5;28;01mfrom\u001b[39;00m \u001b[38;5;21;01mmatplotlib\u001b[39;00m \u001b[38;5;28;01mimport\u001b[39;00m pyplot \u001b[38;5;28;01mas\u001b[39;00m plt\n\u001b[0;32m      3\u001b[0m N \u001b[38;5;241m=\u001b[39m \u001b[38;5;241m100\u001b[39m\n\u001b[0;32m      4\u001b[0m a \u001b[38;5;241m=\u001b[39m \u001b[38;5;241m0\u001b[39m\n",
      "File \u001b[1;32m~\\AppData\\Local\\Programs\\Python\\Python310\\lib\\site-packages\\matplotlib\\pyplot.py:66\u001b[0m\n\u001b[0;32m     63\u001b[0m \u001b[38;5;28;01mfrom\u001b[39;00m \u001b[38;5;21;01mmatplotlib\u001b[39;00m \u001b[38;5;28;01mimport\u001b[39;00m _docstring\n\u001b[0;32m     64\u001b[0m \u001b[38;5;28;01mfrom\u001b[39;00m \u001b[38;5;21;01mmatplotlib\u001b[39;00m\u001b[38;5;21;01m.\u001b[39;00m\u001b[38;5;21;01mbackend_bases\u001b[39;00m \u001b[38;5;28;01mimport\u001b[39;00m (\n\u001b[0;32m     65\u001b[0m     FigureCanvasBase, FigureManagerBase, MouseButton)\n\u001b[1;32m---> 66\u001b[0m \u001b[38;5;28;01mfrom\u001b[39;00m \u001b[38;5;21;01mmatplotlib\u001b[39;00m\u001b[38;5;21;01m.\u001b[39;00m\u001b[38;5;21;01mfigure\u001b[39;00m \u001b[38;5;28;01mimport\u001b[39;00m Figure, FigureBase, figaspect\n\u001b[0;32m     67\u001b[0m \u001b[38;5;28;01mfrom\u001b[39;00m \u001b[38;5;21;01mmatplotlib\u001b[39;00m\u001b[38;5;21;01m.\u001b[39;00m\u001b[38;5;21;01mgridspec\u001b[39;00m \u001b[38;5;28;01mimport\u001b[39;00m GridSpec, SubplotSpec\n\u001b[0;32m     68\u001b[0m \u001b[38;5;28;01mfrom\u001b[39;00m \u001b[38;5;21;01mmatplotlib\u001b[39;00m \u001b[38;5;28;01mimport\u001b[39;00m rcsetup, rcParamsDefault, rcParamsOrig\n",
      "File \u001b[1;32m~\\AppData\\Local\\Programs\\Python\\Python310\\lib\\site-packages\\matplotlib\\figure.py:43\u001b[0m\n\u001b[0;32m     40\u001b[0m \u001b[38;5;28;01mimport\u001b[39;00m \u001b[38;5;21;01mnumpy\u001b[39;00m \u001b[38;5;28;01mas\u001b[39;00m \u001b[38;5;21;01mnp\u001b[39;00m\n\u001b[0;32m     42\u001b[0m \u001b[38;5;28;01mimport\u001b[39;00m \u001b[38;5;21;01mmatplotlib\u001b[39;00m \u001b[38;5;28;01mas\u001b[39;00m \u001b[38;5;21;01mmpl\u001b[39;00m\n\u001b[1;32m---> 43\u001b[0m \u001b[38;5;28;01mfrom\u001b[39;00m \u001b[38;5;21;01mmatplotlib\u001b[39;00m \u001b[38;5;28;01mimport\u001b[39;00m _blocking_input, backend_bases, _docstring, projections\n\u001b[0;32m     44\u001b[0m \u001b[38;5;28;01mfrom\u001b[39;00m \u001b[38;5;21;01mmatplotlib\u001b[39;00m\u001b[38;5;21;01m.\u001b[39;00m\u001b[38;5;21;01martist\u001b[39;00m \u001b[38;5;28;01mimport\u001b[39;00m (\n\u001b[0;32m     45\u001b[0m     Artist, allow_rasterization, _finalize_rasterization)\n\u001b[0;32m     46\u001b[0m \u001b[38;5;28;01mfrom\u001b[39;00m \u001b[38;5;21;01mmatplotlib\u001b[39;00m\u001b[38;5;21;01m.\u001b[39;00m\u001b[38;5;21;01mbackend_bases\u001b[39;00m \u001b[38;5;28;01mimport\u001b[39;00m (\n\u001b[0;32m     47\u001b[0m     DrawEvent, FigureCanvasBase, NonGuiException, MouseButton, _get_renderer)\n",
      "File \u001b[1;32m~\\AppData\\Local\\Programs\\Python\\Python310\\lib\\site-packages\\matplotlib\\projections\\__init__.py:57\u001b[0m\n\u001b[0;32m     55\u001b[0m \u001b[38;5;28;01mfrom\u001b[39;00m \u001b[38;5;21;01m.\u001b[39;00m\u001b[38;5;21;01m.\u001b[39;00m \u001b[38;5;28;01mimport\u001b[39;00m axes, _docstring\n\u001b[0;32m     56\u001b[0m \u001b[38;5;28;01mfrom\u001b[39;00m \u001b[38;5;21;01m.\u001b[39;00m\u001b[38;5;21;01mgeo\u001b[39;00m \u001b[38;5;28;01mimport\u001b[39;00m AitoffAxes, HammerAxes, LambertAxes, MollweideAxes\n\u001b[1;32m---> 57\u001b[0m \u001b[38;5;28;01mfrom\u001b[39;00m \u001b[38;5;21;01m.\u001b[39;00m\u001b[38;5;21;01mpolar\u001b[39;00m \u001b[38;5;28;01mimport\u001b[39;00m PolarAxes\n\u001b[0;32m     58\u001b[0m \u001b[38;5;28;01mfrom\u001b[39;00m \u001b[38;5;21;01mmpl_toolkits\u001b[39;00m\u001b[38;5;21;01m.\u001b[39;00m\u001b[38;5;21;01mmplot3d\u001b[39;00m \u001b[38;5;28;01mimport\u001b[39;00m Axes3D\n\u001b[0;32m     61\u001b[0m \u001b[38;5;28;01mclass\u001b[39;00m \u001b[38;5;21;01mProjectionRegistry\u001b[39;00m:\n",
      "File \u001b[1;32m<frozen importlib._bootstrap>:1027\u001b[0m, in \u001b[0;36m_find_and_load\u001b[1;34m(name, import_)\u001b[0m\n",
      "File \u001b[1;32m<frozen importlib._bootstrap>:1002\u001b[0m, in \u001b[0;36m_find_and_load_unlocked\u001b[1;34m(name, import_)\u001b[0m\n",
      "File \u001b[1;32m<frozen importlib._bootstrap>:945\u001b[0m, in \u001b[0;36m_find_spec\u001b[1;34m(name, path, target)\u001b[0m\n",
      "File \u001b[1;32m<frozen importlib._bootstrap_external>:1439\u001b[0m, in \u001b[0;36mfind_spec\u001b[1;34m(cls, fullname, path, target)\u001b[0m\n",
      "File \u001b[1;32m<frozen importlib._bootstrap_external>:1411\u001b[0m, in \u001b[0;36m_get_spec\u001b[1;34m(cls, fullname, path, target)\u001b[0m\n",
      "File \u001b[1;32m<frozen importlib._bootstrap_external>:1544\u001b[0m, in \u001b[0;36mfind_spec\u001b[1;34m(self, fullname, target)\u001b[0m\n",
      "File \u001b[1;32m<frozen importlib._bootstrap_external>:147\u001b[0m, in \u001b[0;36m_path_stat\u001b[1;34m(path)\u001b[0m\n",
      "\u001b[1;31mKeyboardInterrupt\u001b[0m: "
     ]
    }
   ],
   "source": [
    "#BROUILLON\n",
    "from matplotlib import pyplot as plt\n",
    "N = 100\n",
    "a = 0\n",
    "b = 1\n",
    "plt.plot(exponential_schedule(a, b, N), '.')"
   ]
  },
  {
   "cell_type": "markdown",
   "metadata": {},
   "source": [
    "    Step 3. Calculate the flux schedule for the exponential schedule"
   ]
  },
  {
   "cell_type": "code",
   "execution_count": null,
   "metadata": {},
   "outputs": [],
   "source": [
    "def get_fluxes(ising_schedule: dict[str, int | np.ndarray], optimizer: str) ->  dict[str, int | np.ndarray]:\n",
    "    \"\"\"Get the flux schedule from a given ising schedule.\n",
    "\n",
    "    Args:\n",
    "        ising_schedule (dict[str, int  |  np.ndarray]): dictionary with the number of points in the schedule\n",
    "            and the ising coefficients for each control of the circuit at each point of the schedule\n",
    "        optimizer (str): name of the lmfit minimizer to use\n",
    "\n",
    "    Returns:\n",
    "        dict[str, int | np.ndarray]: dictionary containing the number of points in the schedule and the fluxes\n",
    "            to be applied at each control of the circuit at each point of the schedule.\n",
    "    \"\"\"\n",
    "    \n",
    "    flux_dict = circuit.get_custom_fluxes_pwsw(ising_schedule, verbose=True, optimizer_method=optimizer)\n",
    "    return flux_dict\n",
    "    "
   ]
  },
  {
   "cell_type": "markdown",
   "metadata": {},
   "source": [
    "### With the obtain fluxes calculate the energy spectrum of the circuit"
   ]
  },
  {
   "cell_type": "markdown",
   "metadata": {},
   "source": [
    "    Step 1. Define a function to get the spectrum from the flux schedule using the code from CAS"
   ]
  },
  {
   "cell_type": "code",
   "execution_count": null,
   "metadata": {},
   "outputs": [],
   "source": [
    "def get_schedule_spectrum(flux_dict: dict[str, int | np.ndarray], levels: int) -> np.ndarray:\n",
    "    \"\"\"Calculate the energy spectrum through the schedule. The more levels we try to calculate,\n",
    "    the more computationally expensive this will be.\n",
    "\n",
    "    Args:\n",
    "        flux_dict (dict[str, int  |  np.ndarray]): dictionary containing the number of points in the schedule and the fluxes\n",
    "            to be applied at each control of the circuit at each point of the schedule.\n",
    "        levels (int): energy levels to compute\n",
    "\n",
    "    Returns:\n",
    "        np.ndarray: of size (schedule points, levels) with the energy gaps for each level (En - E0),\n",
    "            where E0 is the ground state energy and En is the energy of level n.\n",
    "    \"\"\"\n",
    "    energy = circuit.calculate_spectrum(flux_dict, levels) \n",
    "    return energy-np.min(energy)\n",
    "    "
   ]
  },
  {
   "cell_type": "code",
   "execution_count": null,
   "metadata": {},
   "outputs": [],
   "source": [
    "schedule_spectrum = get_schedule_spectrum(get_fluxes(ising_linear, \"leastsq\"), 5)"
   ]
  },
  {
   "cell_type": "code",
   "execution_count": null,
   "metadata": {},
   "outputs": [],
   "source": [
    "schedule_spectrum"
   ]
  },
  {
   "cell_type": "code",
   "execution_count": null,
   "metadata": {},
   "outputs": [],
   "source": [
    "for i in range(schedule_spectrum.shape[1]):\n",
    "    plt.plot(schedule_spectrum[:,i])"
   ]
  },
  {
   "cell_type": "code",
   "execution_count": null,
   "metadata": {},
   "outputs": [],
   "source": []
  },
  {
   "cell_type": "markdown",
   "metadata": {},
   "source": [
    "### Research questions"
   ]
  },
  {
   "cell_type": "markdown",
   "metadata": {},
   "source": [
    "1. For the annealing schedules calculated, do any of the resulting spectral schedules fulfill the adiabatic theorem?\n",
    "2. By this point you will have obtained two energies, one from the software challenge (QAOA) and one from the annealing schedule above. Argue their relation.\n",
    "3.  If you have made it here, you have problaly seen the difficulties of solving small instances. Can you propose ways to scale these procedures to more qubits? Some techniques for finding the gap along the annealing process can be found in [1], [2], [3] and [4]. Can you implement a simulation from one of these papers? Research and propose better techniques to find the flux schedule for a given Ising schedule with a greater amount of qubits.  "
   ]
  },
  {
   "cell_type": "markdown",
   "metadata": {},
   "source": [
    "## Bibliography\n",
    "\n",
    "[1] Adiabatic Spectroscopy and a Variational Quantum Adiabatic Algorithm: https://arxiv.org/abs/2103.01226\n",
    "\n",
    "[2] Direct estimation of the energy gap between the ground state and excited state with quantum annealing: https://arxiv.org/abs/2007.10561\n",
    "\n",
    "[3] Simulating quantum circuits by adiabatic computation: improved spectral gap bounds: https://arxiv.org/abs/1906.05233\n",
    "\n",
    "[4] Spectroscopy on two coupled flux qubits: https://arxiv.org/abs/cond-mat/0308192\n",
    "\n"
   ]
  }
 ],
 "metadata": {
  "kernelspec": {
   "display_name": "Python 3 (ipykernel)",
   "language": "python",
   "name": "python3"
  },
  "language_info": {
   "codemirror_mode": {
    "name": "ipython",
    "version": 3
   },
   "file_extension": ".py",
   "mimetype": "text/x-python",
   "name": "python",
   "nbconvert_exporter": "python",
   "pygments_lexer": "ipython3",
   "version": "3.10.4"
  }
 },
 "nbformat": 4,
 "nbformat_minor": 4
}
